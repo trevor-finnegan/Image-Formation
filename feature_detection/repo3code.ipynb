{
 "cells": [
  {
   "cell_type": "markdown",
   "id": "e4e271d4",
   "metadata": {},
   "source": [
    "# **Part 1** &mdash; Blob Detection"
   ]
  },
  {
   "cell_type": "code",
   "execution_count": 2,
   "id": "52448284",
   "metadata": {},
   "outputs": [
    {
     "name": "stdout",
     "output_type": "stream",
     "text": [
      "--- Tunable Parameters of SIFT Detector ---\n",
      "nfeatures: 0\n",
      "nOctaveLayers: 3\n",
      "contrastThreshold: 0.04\n",
      "edgeThreshold: 10.0\n",
      "sigma: 1.6\n"
     ]
    }
   ],
   "source": [
    "import numpy as np\n",
    "import cv2 as cv\n",
    "\n",
    "sift = cv.SIFT_create()\n",
    "\n",
    "# Print the tunable parameters of the SIFT detector\n",
    "print(\"--- Tunable Parameters of SIFT Detector ---\")\n",
    "print(\"nfeatures:\", sift.getNFeatures())                  # Number of features\n",
    "print(\"nOctaveLayers:\", sift.getNOctaveLayers())          # Number of octave layers\n",
    "print(\"contrastThreshold:\", sift.getContrastThreshold())  # Constrast threshold\n",
    "print(\"edgeThreshold:\", sift.getEdgeThreshold())          # Edge threshold\n",
    "print(\"sigma:\", sift.getSigma())                          # Sigma\n"
   ]
  },
  {
   "cell_type": "markdown",
   "id": "03e99cc4",
   "metadata": {},
   "source": [
    "### **Tunable Parameters** &mdash; What the default values mean:\n",
    "* **Number of features**:\n",
    "  * **0** &mdash;  no limit on the number of detected keypoints.\n",
    "* **Number of octave layers**:\n",
    "  * **3** &mdash; three scale levels are examined per octave.\n",
    "* **Contrast Threshold**:\n",
    "  * **0.04** &mdash; keypoints with contrast below 0.04 are discarded.\n",
    "* **Edge Threshold**:\n",
    "  * **10** &mdash; keypoints with edge responses stronger than this are removed.\n",
    "* **Sigma**:\n",
    "  * **1.6** &mdash; Gaussian blur with σ = 1.6 is applied to the input image before processing.\n",
    "\n"
   ]
  },
  {
   "cell_type": "code",
   "execution_count": 3,
   "id": "6f6062c8",
   "metadata": {},
   "outputs": [
    {
     "name": "stdout",
     "output_type": "stream",
     "text": [
      "Number of keypoints detected: 384\n",
      "Keypoint 1:\n",
      "  - Angle: 29.3697509765625\n",
      "  - Class ID: -1\n",
      "  - Octave: 14615042\n",
      "  - Position: (25.056865692138672, 96.4741439819336)\n",
      "  - Response: 0.01890508085489273\n",
      "  - Size: 22.15937614440918\n",
      "Keypoint 2:\n",
      "  - Angle: 96.75640869140625\n",
      "  - Class ID: -1\n",
      "  - Octave: 14615042\n",
      "  - Position: (25.056865692138672, 96.4741439819336)\n",
      "  - Response: 0.01890508085489273\n",
      "  - Size: 22.15937614440918\n"
     ]
    }
   ],
   "source": [
    "img = cv.imread('images/example-image.jpg')\n",
    "gray = cv.cvtColor(img, cv.COLOR_BGR2GRAY)\n",
    "\n",
    "keypoints = sift.detect(gray, None)\n",
    "\n",
    "# Keypoints encoding attributes of first 2 keypoints\n",
    "print(f\"Number of keypoints detected: {len(keypoints)}\")\n",
    "for i, kp in enumerate(keypoints[:2]):\n",
    "    print(f\"Keypoint {i+1}:\")            \n",
    "    print(f\"  - Angle: {kp.angle}\")\n",
    "    print(f\"  - Class ID: {kp.class_id}\")\n",
    "    print(f\"  - Octave: {kp.octave}\")\n",
    "    print(f\"  - Position: ({kp.pt[0]}, {kp.pt[1]})\")\n",
    "    print(f\"  - Response: {kp.response}\")\n",
    "    print(f\"  - Size: {kp.size}\")"
   ]
  },
  {
   "cell_type": "code",
   "execution_count": 4,
   "id": "9d693900",
   "metadata": {},
   "outputs": [
    {
     "data": {
      "text/plain": [
       "True"
      ]
     },
     "execution_count": 4,
     "metadata": {},
     "output_type": "execute_result"
    }
   ],
   "source": [
    "# Draw keypoints on the image\n",
    "output_image = cv.drawKeypoints(\n",
    "    gray,\n",
    "    keypoints,\n",
    "    None, \n",
    "    flags=cv.DRAW_MATCHES_FLAGS_DRAW_RICH_KEYPOINTS)\n",
    "\n",
    "# Write the output image to a file in the images folder\n",
    "cv.imwrite('images/sift_keypoints_output.jpg', output_image)\n",
    "cv.imwrite('images/example-image_gray.jpg', gray)"
   ]
  },
  {
   "cell_type": "markdown",
   "id": "fcfd905b",
   "metadata": {},
   "source": [
    "### **Original Image and Output Image:**\n",
    "<img src=\"images/example-image_gray.jpg\" width=\"425\"/> <img src=\"images/sift_keypoints_output.jpg\" width=\"425\"/> "
   ]
  },
  {
   "cell_type": "markdown",
   "id": "b6471f92",
   "metadata": {},
   "source": [
    "# **Part 2** &mdash; Tunning blob detection performance\n",
    "Must reinitialize the sift detector so that it captures as many circles on the input image as possible."
   ]
  },
  {
   "cell_type": "code",
   "execution_count": 5,
   "id": "05e29281",
   "metadata": {},
   "outputs": [
    {
     "name": "stdout",
     "output_type": "stream",
     "text": [
      "--- Number of old SIFT vs new SIFT keypoints ---\n",
      "  - Old: 384\n",
      "  - New: 108\n"
     ]
    },
    {
     "data": {
      "text/plain": [
       "True"
      ]
     },
     "execution_count": 5,
     "metadata": {},
     "output_type": "execute_result"
    }
   ],
   "source": [
    "sift = cv.SIFT_create(\n",
    "    nfeatures=0,            # 0 = no cap; don't artificially stop at 300\n",
    "    contrastThreshold=0.099,\n",
    "    edgeThreshold=20,       # higher => don't throw out responses that look \"edge-like\"\n",
    "    sigma=3.0,             # slightly LOWER blur so very small dots aren't smoothed away\n",
    "    nOctaveLayers=3       # more scale levels per octave => better chance to catch both tiny and large dots\n",
    ")\n",
    "\n",
    "new_keypoints = sift.detect(gray, None)\n",
    "\n",
    "print(\"--- Number of old SIFT vs new SIFT keypoints ---\")\n",
    "print(f\"  - Old: {len(keypoints)}\")\n",
    "print(f\"  - New: {len(new_keypoints)}\")\n",
    "\n",
    "new_output_image = cv.drawKeypoints(\n",
    "    gray,\n",
    "    new_keypoints,\n",
    "    None, \n",
    "    flags=cv.DRAW_MATCHES_FLAGS_DRAW_RICH_KEYPOINTS)\n",
    "\n",
    "cv.imwrite('images/new_sift_keypoints_output.jpg', new_output_image)"
   ]
  },
  {
   "cell_type": "markdown",
   "id": "9847c788",
   "metadata": {},
   "source": [
    "### New Output Image:\n",
    "<img src=\"images/new_sift_keypoints_output.jpg\" width=\"425\"/> "
   ]
  },
  {
   "cell_type": "markdown",
   "id": "0965f30c",
   "metadata": {},
   "source": [
    "# **Part 3** &mdash; Descriptors"
   ]
  },
  {
   "cell_type": "code",
   "execution_count": null,
   "id": "6c19d17f",
   "metadata": {},
   "outputs": [
    {
     "name": "stdout",
     "output_type": "stream",
     "text": [
      "Chosen keypoint info:\n",
      "  - location (x,y): (25.056865692138672, 96.4741439819336)\n",
      "  - size (scale): 22.15937614440918\n",
      "  - angle (deg): 96.75640869140625\n"
     ]
    },
    {
     "data": {
      "text/plain": [
       "True"
      ]
     },
     "execution_count": 38,
     "metadata": {},
     "output_type": "execute_result"
    }
   ],
   "source": [
    "import math\n",
    "\n",
    "keypoints, descriptors = sift.compute(gray, new_keypoints)\n",
    "\n",
    "# A well-fitting blob keypoint to analyze at index 41\n",
    "good_kp, good_desc = keypoints[41], descriptors[41]\n",
    "\n",
    "print(\"Chosen keypoint info:\")\n",
    "print(\"  - location (x,y):\", kp.pt)\n",
    "print(\"  - size (scale):\", kp.size)\n",
    "print(\"  - angle (deg):\", kp.angle)\n",
    "\n",
    "# ---------------------------------------\n",
    "# Draw the keypoint AND a rectangle patch\n",
    "# ---------------------------------------\n",
    "\n",
    "# Copy grayscale into BGR so we can draw colored overlays\n",
    "vis_img = cv.cvtColor(gray, cv.COLOR_GRAY2BGR)\n",
    "\n",
    "# center of keypoint\n",
    "x, y = good_kp.pt\n",
    "\n",
    "# base half-side from SIFT keypoint scale\n",
    "half_side = good_kp.size / 2.0\n",
    "\n",
    "# add a fixed margin (e.g., 40 px) to make the rectangle larger but still centered\n",
    "margin = 15\n",
    "half_side = half_side + margin\n",
    "\n",
    "# compute corners\n",
    "x1 = int(x - half_side)\n",
    "y1 = int(y - half_side)\n",
    "x2 = int(x + half_side)\n",
    "y2 = int(y + half_side)\n",
    "\n",
    "# clamp to image bounds\n",
    "x1 = max(x1, 0)\n",
    "y1 = max(y1, 0)\n",
    "x2 = min(x2, w - 1)\n",
    "y2 = min(y2, h - 1)\n",
    "\n",
    "# draw the rectangle around the patch\n",
    "cv.rectangle(\n",
    "    vis_img,\n",
    "    (x1, y1),\n",
    "    (x2, y2),\n",
    "    (0, 255, 0),  # green\n",
    "    2\n",
    ")\n",
    "\n",
    "cv.imwrite('images/keypoint_and_patch.jpg', vis_img)\n",
    "\n",
    "# also keep the plain keypoint rendering if you want it\n",
    "singular_output_image = cv.drawKeypoints(\n",
    "    vis_img,\n",
    "    [good_kp],\n",
    "    None,\n",
    "    flags=cv.DRAW_MATCHES_FLAGS_DRAW_RICH_KEYPOINTS\n",
    ")\n",
    "\n",
    "cv.imwrite('images/singular_sift_keypoint_and_patch.jpg', singular_output_image)\n"
   ]
  },
  {
   "cell_type": "markdown",
   "id": "1b74f711",
   "metadata": {},
   "source": [
    "### Chosen Keypoint for Descriptor Analysis:\n",
    "<img src=\"images/singular_sift_keypoint_and_patch.jpg\" width=\"425\"/> "
   ]
  },
  {
   "cell_type": "markdown",
   "id": "fecc8904",
   "metadata": {},
   "source": [
    "### Sample of descriptors"
   ]
  },
  {
   "cell_type": "code",
   "execution_count": 39,
   "id": "689f6a2f",
   "metadata": {},
   "outputs": [
    {
     "name": "stdout",
     "output_type": "stream",
     "text": [
      "--- First 10 Values of the Descriptor ---\n",
      "Descriptor element 0: 19.0\n",
      "Descriptor element 1: 17.0\n",
      "Descriptor element 2: 6.0\n",
      "Descriptor element 3: 4.0\n",
      "Descriptor element 4: 1.0\n",
      "Descriptor element 5: 0.0\n",
      "Descriptor element 6: 7.0\n",
      "Descriptor element 7: 9.0\n",
      "Descriptor element 8: 2.0\n",
      "Descriptor element 9: 4.0\n"
     ]
    }
   ],
   "source": [
    "# Print out the descriptor elements\n",
    "print(\"--- First 10 Values of the Descriptor ---\")\n",
    "for i in range(10):\n",
    "    print(f\"Descriptor element {i}: {good_desc[i]}\")"
   ]
  },
  {
   "cell_type": "markdown",
   "id": "c896352e",
   "metadata": {},
   "source": [
    "### Visualize descriptors\n",
    "Create a visualization of the 128-dimensional SIFT descriptor as a 4×4 grid of 8-bin orientation histograms, where each subplot represents one spatial cell in the SIFT descriptor and each bar corresponds to the gradient strength in a particular direction (0°, 45°, 90°, …, 315°)."
   ]
  },
  {
   "cell_type": "code",
   "execution_count": 40,
   "id": "05581eb0",
   "metadata": {},
   "outputs": [
    {
     "data": {
      "image/png": "[encoded data removed]",
      "text/plain": [
       "<Figure size 800x800 with 16 Axes>"
      ]
     },
     "metadata": {},
     "output_type": "display_data"
    }
   ],
   "source": [
    "import matplotlib.pyplot as plt\n",
    "\n",
    "def visualize_sift_descriptor(desc, save_path='images/sift_descriptor_grid.png'):\n",
    "    desc = np.array(desc, dtype=float).reshape(4, 4, 8)\n",
    "\n",
    "    fig, axes = plt.subplots(4, 4, figsize=(8, 8))\n",
    "    fig.suptitle(\"SIFT Descriptor: 4x4 spatial cells, 8-bin orientation histograms\", fontsize=12)\n",
    "\n",
    "    # We'll label orientation bins 0..7 (which roughly correspond to angles 0°,45°,...315°)\n",
    "    bin_indices = np.arange(8)\n",
    "\n",
    "    for i in range(4):\n",
    "        for j in range(4):\n",
    "            hist = desc[i, j, :]\n",
    "\n",
    "            ax = axes[i, j]\n",
    "            ax.bar(bin_indices, hist)\n",
    "\n",
    "            # cosmetic tweaks\n",
    "            ax.set_xticks([0, 2, 4, 6])\n",
    "            ax.set_ylim(0, max(hist)*1.2 if np.max(hist) > 0 else 1e-3)\n",
    "            ax.set_title(f\"Cell ({i},{j})\", fontsize=8)\n",
    "            ax.tick_params(axis='both', which='major', labelsize=6)\n",
    "\n",
    "    plt.tight_layout()\n",
    "    plt.savefig(save_path, dpi=200)\n",
    "    plt.show()\n",
    "\n",
    "# Call it on your chosen keypoint's descriptor:\n",
    "visualize_sift_descriptor(good_desc)\n"
   ]
  },
  {
   "cell_type": "markdown",
   "id": "e7a2f1c3",
   "metadata": {},
   "source": [
    "# **Part 4** &mdash; Feature Matching"
   ]
  },
  {
   "cell_type": "markdown",
   "id": "5d1a163e",
   "metadata": {},
   "source": [
    "### Apply affine tranformation to original image"
   ]
  },
  {
   "cell_type": "code",
   "execution_count": 41,
   "id": "8669403f",
   "metadata": {},
   "outputs": [
    {
     "data": {
      "text/plain": [
       "True"
      ]
     },
     "execution_count": 41,
     "metadata": {},
     "output_type": "execute_result"
    }
   ],
   "source": [
    "# original image from Part 2\n",
    "image1 = gray  # keep a copy\n",
    "\n",
    "# ----- make a transformed version (rotate + scale) -----\n",
    "(h, w) = image1.shape[:2]\n",
    "center = (w // 2, h // 2)\n",
    "\n",
    "scale = 0.8          # shrink a bit\n",
    "angle_deg = 25       # rotate a bit\n",
    "\n",
    "M = cv.getRotationMatrix2D(center, angle_deg, scale)\n",
    "image2 = cv.warpAffine(image1, M, (w, h))\n",
    "\n",
    "cv.imwrite('images/example-image-transformed.jpg', image2)"
   ]
  },
  {
   "cell_type": "markdown",
   "id": "4d81efe3",
   "metadata": {},
   "source": [
    "### Transformed image:\n",
    "<img src=\"images/example-image-transformed.jpg\" width=\"425\"/> "
   ]
  },
  {
   "cell_type": "markdown",
   "id": "6ee3ec4d",
   "metadata": {},
   "source": [
    "### Detect Keypoint in both images"
   ]
  },
  {
   "cell_type": "code",
   "execution_count": 42,
   "id": "0b2365e8",
   "metadata": {},
   "outputs": [
    {
     "name": "stdout",
     "output_type": "stream",
     "text": [
      "Image1: keypoints = 108 descriptors = (108, 128)\n",
      "Image2: keypoints = 137 descriptors = (137, 128)\n"
     ]
    }
   ],
   "source": [
    "# Detect+describe features in image1\n",
    "keypoints1, descriptors1 = sift.detectAndCompute(image1, None)\n",
    "\n",
    "# Detect+describe features in image2\n",
    "keypoints2, descriptors2 = sift.detectAndCompute(image2, None)\n",
    "\n",
    "print(\"Image1: keypoints =\", len(keypoints1), \"descriptors =\", descriptors1.shape)\n",
    "print(\"Image2: keypoints =\", len(keypoints2), \"descriptors =\", descriptors2.shape)\n"
   ]
  },
  {
   "cell_type": "markdown",
   "id": "cf627e5c",
   "metadata": {},
   "source": [
    "### Feature match"
   ]
  },
  {
   "cell_type": "code",
   "execution_count": 43,
   "id": "784ffa39",
   "metadata": {},
   "outputs": [
    {
     "name": "stdout",
     "output_type": "stream",
     "text": [
      "Total raw matches: 63\n",
      "Good matches we're going to draw: 50\n"
     ]
    }
   ],
   "source": [
    "# Create the Brute-Force matcher\n",
    "bf = cv.BFMatcher(cv.NORM_L2, crossCheck=True)\n",
    "\n",
    "# Match descriptors from image1 to image2\n",
    "matches = bf.match(descriptors1, descriptors2)\n",
    "\n",
    "print(\"Total raw matches:\", len(matches))\n",
    "\n",
    "# Sort matches by distance (lower distance = better match)\n",
    "matches = sorted(matches, key=lambda m: m.distance)\n",
    "\n",
    "# For clarity, keep the best 50\n",
    "good_matches = matches[:50]\n",
    "print(\"Good matches we're going to draw:\", len(good_matches))"
   ]
  },
  {
   "cell_type": "markdown",
   "id": "66477d86",
   "metadata": {},
   "source": [
    "### Visualize matches"
   ]
  },
  {
   "cell_type": "code",
   "execution_count": 44,
   "id": "2c9cdf2e",
   "metadata": {},
   "outputs": [
    {
     "data": {
      "text/plain": [
       "True"
      ]
     },
     "execution_count": 44,
     "metadata": {},
     "output_type": "execute_result"
    }
   ],
   "source": [
    "matched_img = cv.drawMatches(\n",
    "    image1, keypoints1,\n",
    "    image2, keypoints2,\n",
    "    good_matches,\n",
    "    None,\n",
    "    flags=cv.DrawMatchesFlags_NOT_DRAW_SINGLE_POINTS\n",
    ")\n",
    "\n",
    "cv.imwrite('images/sift_matches.jpg', matched_img)"
   ]
  },
  {
   "cell_type": "markdown",
   "id": "1d6c7260",
   "metadata": {},
   "source": [
    "### Feature matched images:\n",
    "<img src=\"images/sift_matches.jpg\" width=\"800\"/>"
   ]
  }
 ],
 "metadata": {
  "kernelspec": {
   "display_name": "base",
   "language": "python",
   "name": "python3"
  },
  "language_info": {
   "codemirror_mode": {
    "name": "ipython",
    "version": 3
   },
   "file_extension": ".py",
   "mimetype": "text/x-python",
   "name": "python",
   "nbconvert_exporter": "python",
   "pygments_lexer": "ipython3",
   "version": "3.13.5"
  }
 },
 "nbformat": 4,
 "nbformat_minor": 5
}
